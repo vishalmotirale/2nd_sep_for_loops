{
 "cells": [
  {
   "cell_type": "code",
   "execution_count": 1,
   "id": "5aa61822",
   "metadata": {},
   "outputs": [
    {
     "name": "stdout",
     "output_type": "stream",
     "text": [
      "1\n",
      "2\n",
      "3\n",
      "4\n",
      "5\n",
      "6\n",
      "7\n",
      "8\n",
      "9\n",
      "10\n"
     ]
    }
   ],
   "source": [
    "for i in range(1,11):\n",
    "    print(i)"
   ]
  },
  {
   "cell_type": "code",
   "execution_count": 2,
   "id": "e36d03e3",
   "metadata": {},
   "outputs": [
    {
     "name": "stdout",
     "output_type": "stream",
     "text": [
      "sum of numbers is: 15\n"
     ]
    }
   ],
   "source": [
    "numbers=[1,2,3,4,5]\n",
    "sum_of_numbers = 0\n",
    "for number in numbers:\n",
    "    sum_of_numbers += number\n",
    "print(\"sum of numbers is:\",sum_of_numbers)\n",
    "\n",
    "    "
   ]
  },
  {
   "cell_type": "code",
   "execution_count": 4,
   "id": "2fdf6e41",
   "metadata": {},
   "outputs": [
    {
     "name": "stdout",
     "output_type": "stream",
     "text": [
      "reversed string:  dlrow olleh\n"
     ]
    }
   ],
   "source": [
    "string1=\"hello world\"\n",
    "reversed_string=\" \"\n",
    "for char in reversed(string1):\n",
    "    reversed_string += char\n",
    "print(\"reversed string:\",reversed_string)"
   ]
  },
  {
   "cell_type": "code",
   "execution_count": 7,
   "id": "00acf304",
   "metadata": {},
   "outputs": [
    {
     "name": "stdout",
     "output_type": "stream",
     "text": [
      "the factorialof 5 is 120\n"
     ]
    }
   ],
   "source": [
    "def factorial(n):\n",
    "    factorial = 1\n",
    "    for i in range (1,n+1):\n",
    "        factorial *= i\n",
    "    return factorial \n",
    "\n",
    "number =5 \n",
    "print(\"the factorialof\",number,\"is\",factorial(number))"
   ]
  },
  {
   "cell_type": "code",
   "execution_count": 9,
   "id": "3adc7c3d",
   "metadata": {},
   "outputs": [
    {
     "name": "stdout",
     "output_type": "stream",
     "text": [
      "17 x 1 = 17\n",
      "17 x 2 = 34\n",
      "17 x 3 = 51\n",
      "17 x 4 = 68\n",
      "17 x 5 = 85\n",
      "17 x 6 = 102\n",
      "17 x 7 = 119\n",
      "17 x 8 = 136\n",
      "17 x 9 = 153\n",
      "17 x 10 = 170\n"
     ]
    }
   ],
   "source": [
    "def multiplication_table(n):\n",
    "    for i in range(1,11):\n",
    "        print(n,\"x\",i,\"=\",n*i)\n",
    "number=17\n",
    "multiplication_table(number)"
   ]
  },
  {
   "cell_type": "code",
   "execution_count": 12,
   "id": "6779a127",
   "metadata": {},
   "outputs": [
    {
     "name": "stdout",
     "output_type": "stream",
     "text": [
      "no. of even count: 6\n",
      "no. of odd count: 8\n"
     ]
    }
   ],
   "source": [
    "numbers=[1,2,3,4,5,6,7,8,9,10,45,866,41,43]\n",
    "even_count=0\n",
    "odd_count=0\n",
    "for number in numbers:\n",
    "    if number %2 == 0:\n",
    "        even_count+=1\n",
    "    else :\n",
    "        odd_count +=1\n",
    "        \n",
    "print(\"no. of even count:\",even_count)\n",
    "print(\"no. of odd count:\", odd_count)\n"
   ]
  },
  {
   "cell_type": "code",
   "execution_count": 16,
   "id": "d57387dd",
   "metadata": {},
   "outputs": [
    {
     "name": "stdout",
     "output_type": "stream",
     "text": [
      "1\n",
      "4\n",
      "9\n",
      "16\n",
      "25\n"
     ]
    }
   ],
   "source": [
    "for i in range(1, 6):\n",
    "    print(i*i)"
   ]
  },
  {
   "cell_type": "code",
   "execution_count": 17,
   "id": "9bb155de",
   "metadata": {},
   "outputs": [
    {
     "data": {
      "text/plain": [
       "'hello world'"
      ]
     },
     "execution_count": 17,
     "metadata": {},
     "output_type": "execute_result"
    }
   ],
   "source": [
    "string1"
   ]
  },
  {
   "cell_type": "code",
   "execution_count": 18,
   "id": "e6acff4d",
   "metadata": {},
   "outputs": [
    {
     "name": "stdout",
     "output_type": "stream",
     "text": [
      "the length of string is 11\n"
     ]
    }
   ],
   "source": [
    "length=0\n",
    "for char in string1:\n",
    "    length += 1\n",
    "\n",
    "print(f\"the length of string is {length}\")"
   ]
  },
  {
   "cell_type": "code",
   "execution_count": 19,
   "id": "34846134",
   "metadata": {},
   "outputs": [
    {
     "data": {
      "text/plain": [
       "[1, 2, 3, 4, 5, 6, 7, 8, 9, 10, 45, 866, 41, 43]"
      ]
     },
     "execution_count": 19,
     "metadata": {},
     "output_type": "execute_result"
    }
   ],
   "source": [
    "numbers"
   ]
  },
  {
   "cell_type": "code",
   "execution_count": 23,
   "id": "ce793d5c",
   "metadata": {},
   "outputs": [
    {
     "name": "stdout",
     "output_type": "stream",
     "text": [
      "the average of the numbers is: 75.0\n"
     ]
    }
   ],
   "source": [
    "def average(numbers):\n",
    "    total=0\n",
    "    count=0\n",
    "    for number in numbers:\n",
    "        total += number\n",
    "        count += 1\n",
    "    return total/count\n",
    "    \n",
    "average= average(numbers)\n",
    "print(\"the average of the numbers is:\",average)\n"
   ]
  },
  {
   "cell_type": "code",
   "execution_count": 27,
   "id": "13e6902e",
   "metadata": {},
   "outputs": [
    {
     "name": "stdout",
     "output_type": "stream",
     "text": [
      "Enter the number of fibonacci numbers to generate:15\n",
      "The first 15 Fibonacci number are:\n",
      "0\n",
      "1\n",
      "1\n",
      "2\n",
      "3\n",
      "5\n",
      "8\n",
      "13\n",
      "21\n",
      "34\n",
      "55\n",
      "89\n",
      "144\n",
      "233\n",
      "377\n"
     ]
    }
   ],
   "source": [
    "n=int(input(\"Enter the number of fibonacci numbers to generate:\"))\n",
    "fibonacci_0=0\n",
    "fibonacci_1=1\n",
    "if n <= 0 :\n",
    "    print('please enter a positive integer.')\n",
    "elif n == 1:\n",
    "    print(f\"The first {n} Fibonacci number is {fibonacci_0}\")\n",
    "else :\n",
    "          print(f\"The first {n} Fibonacci number are:\")\n",
    "          print(fibonacci_0)\n",
    "          print(fibonacci_1)\n",
    "          \n",
    "for i in range(2,n):\n",
    "          fibonacci_next= fibonacci_0 + fibonacci_1\n",
    "          print(fibonacci_next)\n",
    "          fibonacci_0,fibonacci_1=fibonacci_1,fibonacci_next\n",
    "              "
   ]
  },
  {
   "cell_type": "code",
   "execution_count": 35,
   "id": "212640bc",
   "metadata": {},
   "outputs": [
    {
     "name": "stdout",
     "output_type": "stream",
     "text": [
      "The list contains duplicates: False\n",
      "The list cantains duplicates True\n"
     ]
    }
   ],
   "source": [
    "def contains_duplicates(list):\n",
    "    seen = set()\n",
    "    for item in list:\n",
    "        if item in seen:\n",
    "            return True \n",
    "        seen.add(item)\n",
    "    return False\n",
    "\n",
    "list=[1,2,3,4,5]\n",
    "print(\"The list contains duplicates:\",contains_duplicates(list))\n",
    "\n",
    "list=[1,2,3,4,5,5]\n",
    "print(\"The list cantains duplicates\",contains_duplicates(list))\n"
   ]
  },
  {
   "cell_type": "code",
   "execution_count": 43,
   "id": "6354f889",
   "metadata": {},
   "outputs": [
    {
     "name": "stdout",
     "output_type": "stream",
     "text": [
      "Enter the strating number:15\n",
      "Enter the ending number:25\n",
      "17 19 23 "
     ]
    }
   ],
   "source": [
    "def print_prime_numbers(start,end):\n",
    "    for number in range(start, end+1):\n",
    "        is_prime= True \n",
    "        for i in range (2, int(number **0.5)+1):\n",
    "            if number % i == 0:\n",
    "                is_prime = False\n",
    "                break\n",
    "        if is_prime:\n",
    "            print(number,end=\" \")\n",
    "                \n",
    "start=int(input(\"Enter the strating number:\"))\n",
    "end = int(input(\"Enter the ending number:\"))\n",
    "print_prime_numbers(start,end)"
   ]
  },
  {
   "cell_type": "code",
   "execution_count": 46,
   "id": "cc07aa87",
   "metadata": {},
   "outputs": [
    {
     "data": {
      "text/plain": [
       "'hello world'"
      ]
     },
     "execution_count": 46,
     "metadata": {},
     "output_type": "execute_result"
    }
   ],
   "source": [
    "string1"
   ]
  },
  {
   "cell_type": "code",
   "execution_count": 48,
   "id": "39a3021f",
   "metadata": {},
   "outputs": [
    {
     "name": "stdout",
     "output_type": "stream",
     "text": [
      "The number of vowels in string is: 3\n"
     ]
    }
   ],
   "source": [
    "def count_vowels(string1):\n",
    "    vowels=\"aeiou\"\n",
    "    count=0\n",
    "    for  letter in string1: \n",
    "        if letter in vowels:\n",
    "            count += 1\n",
    "    return count\n",
    "vowel_count = count_vowels(string1)\n",
    "print(\"The number of vowels in string is:\",vowel_count)"
   ]
  },
  {
   "cell_type": "code",
   "execution_count": 68,
   "id": "e9997404",
   "metadata": {},
   "outputs": [
    {
     "name": "stdout",
     "output_type": "stream",
     "text": [
      "the maximum element in list is 17\n"
     ]
    }
   ],
   "source": [
    "def find_max_element(list):\n",
    "    max_element = list[0][0]\n",
    "    for row in list:\n",
    "        for element in row:\n",
    "            if element > max_element:\n",
    "                max_element= element\n",
    "    return max_element\n",
    "\n",
    "list=[[1,2,3],[2,3,4],[3,4,5],[2,3,17]]\n",
    "max_element = find_max_element(list)\n",
    "print(\"the maximum element in list is\",max_element)\n",
    "\n",
    "        "
   ]
  },
  {
   "cell_type": "code",
   "execution_count": 20,
   "id": "e265e3eb",
   "metadata": {},
   "outputs": [
    {
     "name": "stdout",
     "output_type": "stream",
     "text": [
      "[1, 3, 4, 5]\n"
     ]
    }
   ],
   "source": [
    "def remove_all_occurrences(list,element):\n",
    "    new_list=[]\n",
    "    for i in list:\n",
    "        if i != element:\n",
    "            new_list.append(i)\n",
    "    return new_list\n",
    "list=[1,2,2,3,4,5]\n",
    "element=2\n",
    "result_list=remove_all_occurrences(list,element)\n",
    "print(result_list)\n",
    "            "
   ]
  },
  {
   "cell_type": "code",
   "execution_count": 24,
   "id": "e0ce1143",
   "metadata": {},
   "outputs": [
    {
     "name": "stdout",
     "output_type": "stream",
     "text": [
      "1x1 =1\t1x2 =2\t1x3 =3\t1x4 =4\t1x5 =5\t\n",
      "2x1 =2\t2x2 =4\t2x3 =6\t2x4 =8\t2x5 =10\t\n",
      "3x1 =3\t3x2 =6\t3x3 =9\t3x4 =12\t3x5 =15\t\n",
      "4x1 =4\t4x2 =8\t4x3 =12\t4x4 =16\t4x5 =20\t\n",
      "5x1 =5\t5x2 =10\t5x3 =15\t5x4 =20\t5x5 =25\t\n"
     ]
    }
   ],
   "source": [
    "start=1\n",
    "end=5\n",
    "for i in range(start,end+1):\n",
    "    for j in range(start,end+1):\n",
    "        product=i*j\n",
    "        print(f\"{i}x{j} ={product}\\t\",end=\"\")\n",
    "    print()"
   ]
  },
  {
   "cell_type": "code",
   "execution_count": 32,
   "id": "b5305969",
   "metadata": {},
   "outputs": [
    {
     "name": "stdout",
     "output_type": "stream",
     "text": [
      "32'F = 0.00'C \n",
      "69'F = 20.56'C \n",
      "95'F = 35.00'C \n",
      "104'F = 40.00'C \n",
      "212'F = 100.00'C \n"
     ]
    }
   ],
   "source": [
    "fahrenheit_temperatures=[32,69,95,104,212]\n",
    "celsius_temperatures=[]\n",
    "for fahrenheit in fahrenheit_temperatures:\n",
    "    celsius=(fahrenheit-32)*5/9\n",
    "    celsius_temperatures.append(celsius)\n",
    "    \n",
    "for i in range(len(fahrenheit_temperatures)):\n",
    "               print(f\"{fahrenheit_temperatures[i]}'F = {celsius_temperatures[i]:.2f}'C \")\n"
   ]
  },
  {
   "cell_type": "code",
   "execution_count": 62,
   "id": "e93b1e06",
   "metadata": {},
   "outputs": [
    {
     "name": "stdout",
     "output_type": "stream",
     "text": [
      "6\n",
      "9\n",
      "\n"
     ]
    }
   ],
   "source": [
    "for element in list1:\n",
    "    if element in list2:\n",
    "        print(element)\n",
    "            \n",
    "            \n",
    "list1 = [1,5,6,8,9]\n",
    "list2 = [2,6,9,7,4]\n",
    "\n",
    "print()\n"
   ]
  },
  {
   "cell_type": "code",
   "execution_count": 64,
   "id": "a2780b8f",
   "metadata": {},
   "outputs": [
    {
     "name": "stdout",
     "output_type": "stream",
     "text": [
      "* \n",
      "* * \n",
      "* * * \n",
      "* * * * \n",
      "* * * * * \n"
     ]
    }
   ],
   "source": [
    "for i in range(5):\n",
    "    for j in range(i+1):\n",
    "        print(\"*\",end=\" \")\n",
    "    print()"
   ]
  },
  {
   "cell_type": "code",
   "execution_count": 93,
   "id": "6c750e54",
   "metadata": {},
   "outputs": [
    {
     "name": "stdout",
     "output_type": "stream",
     "text": [
      "30\n"
     ]
    }
   ],
   "source": [
    "def gdc(a,b):\n",
    "    for i in range (min(a,b),0,-1):\n",
    "        if a % i == 0 and b % i == 0:\n",
    "            return i\n",
    "    \n",
    "a = 630\n",
    "b = 240\n",
    "print(gcd(a,b))"
   ]
  },
  {
   "cell_type": "code",
   "execution_count": 104,
   "id": "5354f892",
   "metadata": {},
   "outputs": [
    {
     "name": "stdout",
     "output_type": "stream",
     "text": [
      "[3, 9, 15]\n"
     ]
    }
   ],
   "source": [
    "\n",
    "def sum_of_digits(numbers):\n",
    "    return [sum(int(digit) for digit in str(number)) for number in numbers]\n",
    "\n",
    "numbers = [12,45,96]\n",
    "print(sum_of_digits(numbers))"
   ]
  },
  {
   "cell_type": "code",
   "execution_count": 124,
   "id": "38d36c45",
   "metadata": {},
   "outputs": [
    {
     "name": "stdout",
     "output_type": "stream",
     "text": [
      "[2, 2, 3, 3]\n"
     ]
    }
   ],
   "source": [
    "def prime_factors(number):\n",
    "    factors = []\n",
    "    for i in range(2, number + 1):\n",
    "        while number % i == 0:\n",
    "            factors.append(i)\n",
    "            number //= i\n",
    "    return factors\n",
    "\n",
    "number= 36\n",
    "print(prime_factors(number))"
   ]
  },
  {
   "cell_type": "code",
   "execution_count": 4,
   "id": "d1b6fda1",
   "metadata": {},
   "outputs": [
    {
     "name": "stdout",
     "output_type": "stream",
     "text": [
      "[1, 2, 6, 4, 8]\n"
     ]
    }
   ],
   "source": [
    "list1 =[1,2,6,2,4,8,6,1]\n",
    "unique_list=[]\n",
    "\n",
    "for x in list1:\n",
    "    if x not in unique_list:\n",
    "        unique_list.append(x)\n",
    "    \n",
    "print(unique_list)\n"
   ]
  },
  {
   "cell_type": "code",
   "execution_count": 8,
   "id": "e7e295fa",
   "metadata": {},
   "outputs": [
    {
     "name": "stdout",
     "output_type": "stream",
     "text": [
      "[0, 1, 2, 3, 4, 5, 6, 7, 8, 9, 11, 22, 33, 44, 55, 66, 77, 88, 99, 101, 111, 121, 131, 141, 151, 161, 171, 181, 191, 202, 212, 222, 232, 242, 252, 262, 272, 282, 292, 303, 313, 323, 333, 343, 353, 363, 373, 383, 393, 404, 414, 424, 434, 444, 454, 464, 474, 484, 494, 505, 515, 525, 535, 545, 555, 565, 575, 585, 595, 606, 616, 626, 636, 646, 656, 666, 676, 686, 696, 707, 717, 727, 737, 747, 757, 767, 777, 787, 797, 808, 818, 828, 838, 848, 858, 868, 878, 888, 898, 909, 919, 929, 939, 949, 959, 969, 979, 989, 999, 1001, 1111, 1221, 1331, 1441, 1551, 1661, 1771, 1881, 1991]\n"
     ]
    }
   ],
   "source": [
    "limit=2000\n",
    "palindromes = []\n",
    "\n",
    "for i in range(limit):\n",
    "    number= str(i)\n",
    "    if number == number[::-1]:\n",
    "        palindromes.append(i)\n",
    "        \n",
    "print(palindromes)"
   ]
  },
  {
   "cell_type": "code",
   "execution_count": 11,
   "id": "9e0091be",
   "metadata": {},
   "outputs": [
    {
     "name": "stdout",
     "output_type": "stream",
     "text": [
      "[1, 2, 3, 4, 5, 6, 7, 8, 9, 10, 11, 12]\n"
     ]
    }
   ],
   "source": [
    "list2=[[1,2,3],[4,5,6],[7,8,9],[10,11,12]]\n",
    "flat_list=[]\n",
    "\n",
    "for sublist in list2:\n",
    "    flat_list.extend(sublist)\n",
    "    \n",
    "print(flat_list)"
   ]
  },
  {
   "cell_type": "code",
   "execution_count": 12,
   "id": "b8e146d7",
   "metadata": {},
   "outputs": [
    {
     "data": {
      "text/plain": [
       "[1, 2, 6, 2, 4, 8, 6, 1]"
      ]
     },
     "execution_count": 12,
     "metadata": {},
     "output_type": "execute_result"
    }
   ],
   "source": [
    "list1"
   ]
  },
  {
   "cell_type": "code",
   "execution_count": 14,
   "id": "266ac65d",
   "metadata": {},
   "outputs": [
    {
     "name": "stdout",
     "output_type": "stream",
     "text": [
      "even_number_sum 28\n",
      "odd_number_sum 2\n"
     ]
    }
   ],
   "source": [
    "even_number_sum= sum([x for x in list1 if x % 2==0])\n",
    "odd_number_sum= sum([x for x in list1 if x % 2==1])\n",
    "print(\"even_number_sum\",even_number_sum)\n",
    "print(\"odd_number_sum\",odd_number_sum)"
   ]
  },
  {
   "cell_type": "code",
   "execution_count": 15,
   "id": "7e0b1802",
   "metadata": {},
   "outputs": [
    {
     "name": "stdout",
     "output_type": "stream",
     "text": [
      "[1, 9, 25, 49, 81]\n"
     ]
    }
   ],
   "source": [
    "odd_numbers=[x for x in range(1,11) if x % 2 ==1]\n",
    "squares_of_odd_numbers=[x*x for x in odd_numbers]\n",
    "print(squares_of_odd_numbers)"
   ]
  },
  {
   "cell_type": "code",
   "execution_count": 16,
   "id": "4654e2a8",
   "metadata": {},
   "outputs": [
    {
     "name": "stdout",
     "output_type": "stream",
     "text": [
      "{'a': 1, 'b': 2, 'c': 3}\n"
     ]
    }
   ],
   "source": [
    "list1=['a','b','c']\n",
    "list2=[1,2,3]\n",
    "dictionary={key: value for key,value in zip(list1,list2)}\n",
    "print(dictionary)"
   ]
  },
  {
   "cell_type": "code",
   "execution_count": 18,
   "id": "a99a41a1",
   "metadata": {},
   "outputs": [
    {
     "name": "stdout",
     "output_type": "stream",
     "text": [
      "['i', 'a', 'a', 'a', 'i', 'e', 'i']\n"
     ]
    }
   ],
   "source": [
    "string=\"i am data scientist\"\n",
    "vowels=[letter for letter in string if letter in \"aeiou\"]\n",
    "print(vowels)"
   ]
  },
  {
   "cell_type": "code",
   "execution_count": 23,
   "id": "5b4eafb9",
   "metadata": {},
   "outputs": [
    {
     "name": "stdout",
     "output_type": "stream",
     "text": [
      "['i am data scientist153', 'with salary 50000', '@ Accenture143']\n",
      "['153', '50000', '143']\n"
     ]
    }
   ],
   "source": [
    "string2=['i am data scientist153','with salary 50000','@ Accenture143']\n",
    "numeric_strings= [''.join(char for char in string if char.isdigit()) for string in string2]\n",
    "print(string2)\n",
    "print(numeric_strings)"
   ]
  },
  {
   "cell_type": "code",
   "execution_count": 8,
   "id": "316adc93",
   "metadata": {},
   "outputs": [
    {
     "name": "stdout",
     "output_type": "stream",
     "text": [
      "Enter a number to find prime numbers up to that number: 150\n",
      "prime number up to 150 are: [2, 3, 5, 7, 11, 13, 17, 19, 23, 29, 31, 37, 41, 43, 47, 53, 59, 61, 67, 71, 73, 79, 83, 89, 97, 101, 103, 107, 109, 113, 127, 131, 137, 139, 149]\n"
     ]
    }
   ],
   "source": [
    "n=int(input(\"Enter a number to find prime numbers up to that number: \"))\n",
    "is_prime=[True]*(n+1)\n",
    "is_prime[0]=is_prime[1]= False\n",
    "for p in range(2,int(n**0.5)+1):\n",
    "    if is_prime[p]:\n",
    "        is_prime[p*p::p]=[False]*len(is_prime[p*p::p])\n",
    "prime_numbers=[i for i in range(2,n+1) if is_prime[i]]\n",
    "\n",
    "print(\"prime number up to\",n,\"are:\",prime_numbers)\n",
    "    "
   ]
  },
  {
   "cell_type": "code",
   "execution_count": 13,
   "id": "d84f72a5",
   "metadata": {},
   "outputs": [
    {
     "name": "stdout",
     "output_type": "stream",
     "text": [
      "Enter a limit to find pythagorean triplets up to that limit: 25\n",
      "pythagorean_triplets up to 25 are: [(3, 4, 5), (5, 12, 13), (6, 8, 10), (7, 24, 25), (8, 15, 17), (9, 12, 15), (12, 16, 20), (15, 20, 25)]\n"
     ]
    }
   ],
   "source": [
    "limit=int(input(\"Enter a limit to find pythagorean triplets up to that limit: \"))\n",
    "pythagorean_triplets=[(a,b,c) for a in range(1,limit+1)\n",
    "                      for b in range(a,limit+1)\n",
    "                      for c in range(b,limit+1)\n",
    "                      if a**2+b**2 == c**2]\n",
    "pythagorean_triplets= list(set(pythagorean_triplets))\n",
    "pythagorean_triplets.sort()\n",
    "\n",
    "print(\"pythagorean_triplets up to\",limit,\"are:\",pythagorean_triplets)\n",
    "                      "
   ]
  },
  {
   "cell_type": "code",
   "execution_count": 14,
   "id": "67a1823a",
   "metadata": {},
   "outputs": [
    {
     "name": "stdout",
     "output_type": "stream",
     "text": [
      "[(1, 4), (1, 5), (1, 6), (2, 4), (2, 5), (2, 6), (3, 4), (3, 5), (3, 6)]\n"
     ]
    }
   ],
   "source": [
    "list1=[1,2,3]\n",
    "list2=[4,5,6]\n",
    "combinations= []\n",
    "for item1 in list1:\n",
    "    for item2 in list2:\n",
    "        combinations.append((item1,item2))\n",
    "        \n",
    "print(combinations)\n",
    "        \n",
    "    "
   ]
  },
  {
   "cell_type": "code",
   "execution_count": 27,
   "id": "160bacfc",
   "metadata": {},
   "outputs": [
    {
     "name": "stdout",
     "output_type": "stream",
     "text": [
      "Enter a list of numbers separated by spaces: 12 25 36\n",
      "mean: 24.333333333333332\n",
      "median: 25.0\n",
      "mode: 12.0\n"
     ]
    }
   ],
   "source": [
    "numbers=[float(x) for x in input(\"Enter a list of numbers separated by spaces: \").split()]\n",
    "mean=sum(numbers)/len(numbers)\n",
    "\n",
    "sorted_numbers=sorted(numbers)\n",
    "median=sorted_numbers[len(sorted_numbers)//2] if len(sorted_numbers) %2 == 1 else \\\n",
    "       (sorted_numbers[len(sorted_numbers)//2-1] + sorted_numbers[len(sorted_numbers)//2])/2\n",
    "number_counts={x: numbers.count(x) for x in numbers}\n",
    "mode =max(numbers, key=numbers.count)\n",
    "print(\"mean:\",mean)\n",
    "print(\"median:\",median)\n",
    "print(\"mode:\",mode)"
   ]
  },
  {
   "cell_type": "code",
   "execution_count": 2,
   "id": "e7f2cc3f",
   "metadata": {},
   "outputs": [
    {
     "name": "stdout",
     "output_type": "stream",
     "text": [
      "Enter the number of rows for pascal's triangle: 15\n",
      "                      1                      \n",
      "                     1 1                     \n",
      "                    1 2 1                    \n",
      "                   1 3 3 1                   \n",
      "                  1 4 6 4 1                  \n",
      "                1 5 10 10 5 1                \n",
      "               1 6 15 20 15 6 1              \n",
      "             1 7 21 35 35 21 7 1             \n",
      "            1 8 28 56 70 56 28 8 1           \n",
      "         1 9 36 84 126 126 84 36 9 1         \n",
      "     1 10 45 120 210 252 210 120 45 10 1     \n",
      "   1 11 55 165 330 462 462 330 165 55 11 1   \n",
      " 1 12 66 220 495 792 924 792 495 220 66 12 1 \n",
      "1 13 78 286 715 1287 1716 1716 1287 715 286 78 13 1\n",
      "1 14 91 364 1001 2002 3003 3432 3003 2002 1001 364 91 14 1\n"
     ]
    }
   ],
   "source": [
    "num_rows=int(input(\"Enter the number of rows for pascal's triangle: \"))\n",
    "pascals_triangle=[[1] * (row + 1) for row in range(num_rows)]\n",
    "for row in range(2, num_rows):\n",
    "    for col in range(1,row):\n",
    "        pascals_triangle[row][col] = pascals_triangle[row - 1][col - 1] +pascals_triangle[row - 1][col]\n",
    "        \n",
    "for row in pascals_triangle:\n",
    "    print(' '.join(map(str,row)).center(num_rows*3))\n",
    "        "
   ]
  },
  {
   "cell_type": "code",
   "execution_count": 6,
   "id": "c9df298b",
   "metadata": {},
   "outputs": [
    {
     "name": "stdout",
     "output_type": "stream",
     "text": [
      "The sum of digits of 1! is 1\n",
      "The sum of digits of 2! is 2\n",
      "The sum of digits of 3! is 6\n",
      "The sum of digits of 4! is 6\n",
      "The sum of digits of 5! is 3\n"
     ]
    }
   ],
   "source": [
    "def factorial(n):\n",
    "    result=1\n",
    "    for i in range(1,n+1):\n",
    "        result *= i\n",
    "    return result\n",
    "factorial_sums= [sum(map(int,str(factorial(i)))) for i in range(1,6)]\n",
    "for i, factorial_sums in enumerate(factorial_sums , start=1):\n",
    "    print(f\"The sum of digits of {i}! is {factorial_sums}\")"
   ]
  },
  {
   "cell_type": "code",
   "execution_count": 9,
   "id": "44563795",
   "metadata": {},
   "outputs": [
    {
     "name": "stdout",
     "output_type": "stream",
     "text": [
      "Enter a sentence: i am vishal motirale\n",
      "The longest word(s) in the sentence is\u0007re: motirale\n"
     ]
    }
   ],
   "source": [
    "sentence= input(\"Enter a sentence: \")\n",
    "words = sentence.split()\n",
    "longest_word = max(words,key=len)\n",
    "print(\"The longest word(s) in the sentence is\\are:\",longest_word)"
   ]
  },
  {
   "cell_type": "code",
   "execution_count": 11,
   "id": "b10f4728",
   "metadata": {},
   "outputs": [
    {
     "name": "stdout",
     "output_type": "stream",
     "text": [
      "['motirale']\n"
     ]
    }
   ],
   "source": [
    "strings=[\"hello\",\"i am\",\"vishal\",\"motirale\"]\n",
    "filtered_strings = [string for string in strings if len(set(string).intersection(\"aeiou\"))>3]\n",
    "print(filtered_strings)"
   ]
  },
  {
   "cell_type": "code",
   "execution_count": 15,
   "id": "85763e1f",
   "metadata": {},
   "outputs": [
    {
     "name": "stdout",
     "output_type": "stream",
     "text": [
      "13501\n"
     ]
    }
   ],
   "source": [
    "digit_sums=[sum(int(digit) for digit in str(number)) for number in range(1,1001)]\n",
    "total_sum = sum(digit_sums)\n",
    "print(total_sum)"
   ]
  },
  {
   "cell_type": "code",
   "execution_count": 17,
   "id": "cf4cd68c",
   "metadata": {},
   "outputs": [
    {
     "name": "stdout",
     "output_type": "stream",
     "text": [
      "prime palindromic numbers up to 1000 are: [2, 3, 5, 7, 11, 101, 131, 151, 181, 191, 313, 353, 373, 383, 727, 757, 787, 797, 919, 929]\n"
     ]
    }
   ],
   "source": [
    "prime_palindromic_numbers= [num for num in range(2,1000) if all (num % i != 0 for i in range(2, int(num**0.5) + 1))and str(num) == str(num) [::-1]]\n",
    "print(\"prime palindromic numbers up to 1000 are:\", prime_palindromic_numbers)"
   ]
  },
  {
   "cell_type": "code",
   "execution_count": 18,
   "id": "d37a2cc1",
   "metadata": {},
   "outputs": [],
   "source": [
    "#DONE"
   ]
  },
  {
   "cell_type": "code",
   "execution_count": null,
   "id": "ca6681e5",
   "metadata": {},
   "outputs": [],
   "source": []
  }
 ],
 "metadata": {
  "kernelspec": {
   "display_name": "Python 3 (ipykernel)",
   "language": "python",
   "name": "python3"
  },
  "language_info": {
   "codemirror_mode": {
    "name": "ipython",
    "version": 3
   },
   "file_extension": ".py",
   "mimetype": "text/x-python",
   "name": "python",
   "nbconvert_exporter": "python",
   "pygments_lexer": "ipython3",
   "version": "3.11.3"
  }
 },
 "nbformat": 4,
 "nbformat_minor": 5
}
